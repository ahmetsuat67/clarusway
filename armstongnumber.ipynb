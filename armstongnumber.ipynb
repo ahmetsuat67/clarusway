{
  "nbformat": 4,
  "nbformat_minor": 0,
  "metadata": {
    "colab": {
      "name": "armstongnumber.ipynb",
      "provenance": [],
      "authorship_tag": "ABX9TyOPGy9uRkqHH9SuvjIX49O4",
      "include_colab_link": true
    },
    "kernelspec": {
      "display_name": "Python 3",
      "name": "python3"
    },
    "language_info": {
      "name": "python"
    }
  },
  "cells": [
    {
      "cell_type": "markdown",
      "metadata": {
        "id": "view-in-github",
        "colab_type": "text"
      },
      "source": [
        "<a href=\"https://colab.research.google.com/github/ahmetsuat67/clarusway/blob/main/armstongnumber.ipynb\" target=\"_parent\"><img src=\"https://colab.research.google.com/assets/colab-badge.svg\" alt=\"Open In Colab\"/></a>"
      ]
    },
    {
      "cell_type": "markdown",
      "metadata": {
        "id": "Ocl5ZwNzwhRB"
      },
      "source": [
        ""
      ]
    },
    {
      "cell_type": "code",
      "metadata": {
        "colab": {
          "base_uri": "https://localhost:8080/"
        },
        "id": "LL8vN4NIqKBP",
        "outputId": "18a6470b-e66d-470f-ba44-724cd28b79e6"
      },
      "source": [
        "\n",
        "while True:\n",
        "    girdi=input(\"Sayı girin (Çıkmak için 'q' ya basın.) : \")\n",
        " \n",
        "    if girdi==\"q\":\n",
        "        break\n",
        "    \n",
        "    uzunluk=len(girdi)\n",
        " \n",
        "    toplam=0\n",
        "    for i in range(uzunluk):\n",
        "        toplam = toplam + int(girdi[i])**uzunluk\n",
        "    \n",
        "    if(toplam==int(girdi)):\n",
        "        print(\"Girdiğiniz Sayı Bir Armstrong Sayıdır!\")\n",
        "    else:\n",
        "        print(\"Girdiğiniz Sayı Armstrong Bir Sayı Değildir!\")"
      ],
      "execution_count": 17,
      "outputs": [
        {
          "name": "stdout",
          "output_type": "stream",
          "text": [
            "Sayı girin (Çıkmak için 'q' ya basın.) : 15\n",
            "Girdiğiniz Sayı Armstrong Bir Sayı Değildir!\n",
            "Sayı girin (Çıkmak için 'q' ya basın.) : q\n"
          ]
        }
      ]
    },
    {
      "cell_type": "code",
      "metadata": {
        "id": "859fnyIZsv-k"
      },
      "source": [
        ""
      ],
      "execution_count": null,
      "outputs": []
    }
  ]
}