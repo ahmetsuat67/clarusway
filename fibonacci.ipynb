{
  "nbformat": 4,
  "nbformat_minor": 0,
  "metadata": {
    "colab": {
      "name": "fibonacci.ipynb",
      "provenance": [],
      "authorship_tag": "ABX9TyNAfnYcFoeRLDerlWEwsStm",
      "include_colab_link": true
    },
    "kernelspec": {
      "name": "python3",
      "display_name": "Python 3"
    },
    "language_info": {
      "name": "python"
    }
  },
  "cells": [
    {
      "cell_type": "markdown",
      "metadata": {
        "id": "view-in-github",
        "colab_type": "text"
      },
      "source": [
        "<a href=\"https://colab.research.google.com/github/ahmetsuat67/clarusway/blob/main/fibonacci.ipynb\" target=\"_parent\"><img src=\"https://colab.research.google.com/assets/colab-badge.svg\" alt=\"Open In Colab\"/></a>"
      ]
    },
    {
      "cell_type": "code",
      "metadata": {
        "id": "qVJ80VV4WG7j",
        "colab": {
          "base_uri": "https://localhost:8080/"
        },
        "outputId": "583d6c46-b8a6-489e-e19f-070ddb902ffe"
      },
      "source": [
        "fibo = [1,1]\n",
        "num = 0\n",
        "while True:\n",
        "  list = fibo[num] + fibo[num+1]\n",
        "  fibo.append(list)\n",
        "  num += 1\n",
        "  if fibo[-1] == 55:\n",
        "    break\n",
        "print(fibo)\n",
        "\n",
        "  \n",
        "   "
      ],
      "execution_count": 8,
      "outputs": [
        {
          "output_type": "stream",
          "name": "stdout",
          "text": [
            "[1, 1, 2, 3, 5, 8, 13, 21, 34, 55]\n"
          ]
        }
      ]
    },
    {
      "cell_type": "code",
      "metadata": {
        "id": "v3u5GrSho5zk"
      },
      "source": [
        ""
      ],
      "execution_count": null,
      "outputs": []
    }
  ]
}