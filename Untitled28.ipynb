{
  "nbformat": 4,
  "nbformat_minor": 0,
  "metadata": {
    "colab": {
      "name": "Untitled28.ipynb",
      "provenance": [],
      "collapsed_sections": []
    },
    "kernelspec": {
      "name": "python3",
      "display_name": "Python 3"
    },
    "language_info": {
      "name": "python"
    }
  },
  "cells": [
    {
      "cell_type": "code",
      "metadata": {
        "id": "Xf343yYfznu2"
      },
      "source": [
        "username = (\"ahmetsuat67\",)\n",
        "password = (\"zonguldak\",)\n",
        "name = input(\"kullanıcı adı giriniz:\")\n",
        "if name == username[0]:\n",
        "    print(\"hello, {}!The password is: {}\".format(name,password))\n",
        "else:\n",
        "    print(\"hello, {}!see you later. \".format(name))"
      ],
      "execution_count": null,
      "outputs": []
    },
    {
      "cell_type": "code",
      "metadata": {
        "id": "OXkneHkLzsqk"
      },
      "source": [
        ""
      ],
      "execution_count": null,
      "outputs": []
    }
  ]
}